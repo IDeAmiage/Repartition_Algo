{
 "cells": [
  {
   "cell_type": "code",
   "execution_count": null,
   "metadata": {},
   "outputs": [],
   "source": []
  }
 ],
 "metadata": {
  "kernelspec": {
   "display_name": "Python 3.10.0 64-bit",
   "language": "python",
   "name": "python3"
  },
  "language_info": {
   "name": "python",
   "version": "3.10.0"
  },
  "orig_nbformat": 4,
  "vscode": {
   "interpreter": {
    "hash": "673871b425f7a4503be8b76e259a82f66fba1a5d7efe106f4324cf9bb2172505"
   }
  }
 },
 "nbformat": 4,
 "nbformat_minor": 2
}
